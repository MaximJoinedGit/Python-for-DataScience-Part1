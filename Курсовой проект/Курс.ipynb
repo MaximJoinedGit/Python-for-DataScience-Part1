{
 "cells": [
  {
   "cell_type": "markdown",
   "metadata": {},
   "source": [
    "# Курсовой проект по теме \"Библиотеки Python для Data Science: Numpy, Matplotlib, Scikit-learn\""
   ]
  },
  {
   "cell_type": "markdown",
   "metadata": {},
   "source": [
    "### 1. Загрузим необходимые библиотеки, файлы, скрипты и модули, которые понадобятся нам в проекте."
   ]
  },
  {
   "cell_type": "code",
   "execution_count": 1,
   "metadata": {},
   "outputs": [],
   "source": [
    "import numpy as np\n",
    "import pandas as pd\n",
    "from matplotlib import pyplot as plt\n",
    "import seaborn as sns\n",
    "from sklearn.model_selection import train_test_split, cross_val_score\n",
    "from sklearn.ensemble import GradientBoostingRegressor\n",
    "from sklearn.metrics import mean_squared_error as mse, r2_score as r2\n",
    "from sklearn.model_selection import KFold"
   ]
  },
  {
   "cell_type": "code",
   "execution_count": 2,
   "metadata": {},
   "outputs": [],
   "source": [
    "train_directory = '/home/maxim/Документы/GeekBrains/1 четверть. Библиотки Python для Data Science. Numpy, Matplotlib, Scikit-learn/Manuals/train.csv'"
   ]
  },
  {
   "cell_type": "code",
   "execution_count": 3,
   "metadata": {},
   "outputs": [],
   "source": [
    "def evaluate_preds(train_true_values, train_pred_values, test_true_values, test_pred_values):\n",
    "    print(\"Train R2:\\t\" + str(round(r2(train_true_values, train_pred_values), 3)))\n",
    "    print(\"Test R2:\\t\" + str(round(r2(test_true_values, test_pred_values), 3)))\n",
    "    \n",
    "    plt.figure(figsize=(18,10))\n",
    "    \n",
    "    plt.subplot(121)\n",
    "    sns.scatterplot(x=train_pred_values, y=train_true_values)\n",
    "    plt.xlabel('Predicted values')\n",
    "    plt.ylabel('True values')\n",
    "    plt.title('Train sample prediction')\n",
    "    \n",
    "    plt.subplot(122)\n",
    "    sns.scatterplot(x=test_pred_values, y=test_true_values)\n",
    "    plt.xlabel('Predicted values')\n",
    "    plt.ylabel('True values')\n",
    "    plt.title('Test sample prediction')\n",
    "\n",
    "    plt.show()"
   ]
  },
  {
   "cell_type": "markdown",
   "metadata": {},
   "source": [
    "### 2. EDA"
   ]
  },
  {
   "cell_type": "code",
   "execution_count": 4,
   "metadata": {},
   "outputs": [],
   "source": [
    "df = pd.read_csv(train_directory)"
   ]
  },
  {
   "cell_type": "code",
   "execution_count": 5,
   "metadata": {},
   "outputs": [],
   "source": [
    "data_to_change_type = df.select_dtypes(include='object').keys()\n",
    "for column in data_to_change_type:\n",
    "    old_values = np.sort((pd.unique(df[column])))\n",
    "    new_values = [num for num in range(0, len(old_values))]\n",
    "    for val in range(len(pd.unique(df[column]))):\n",
    "        df[column] = np.where(df[column] == old_values[val], new_values[val], df[column])\n",
    "    df[column] = df[column].astype(float)"
   ]
  },
  {
   "cell_type": "code",
   "execution_count": null,
   "metadata": {},
   "outputs": [
    {
     "data": {
      "text/plain": [
       "array([[<AxesSubplot:title={'center':'Id'}>,\n",
       "        <AxesSubplot:title={'center':'DistrictId'}>,\n",
       "        <AxesSubplot:title={'center':'Rooms'}>,\n",
       "        <AxesSubplot:title={'center':'Square'}>],\n",
       "       [<AxesSubplot:title={'center':'LifeSquare'}>,\n",
       "        <AxesSubplot:title={'center':'KitchenSquare'}>,\n",
       "        <AxesSubplot:title={'center':'Floor'}>,\n",
       "        <AxesSubplot:title={'center':'HouseFloor'}>],\n",
       "       [<AxesSubplot:title={'center':'HouseYear'}>,\n",
       "        <AxesSubplot:title={'center':'Ecology_1'}>,\n",
       "        <AxesSubplot:title={'center':'Ecology_2'}>,\n",
       "        <AxesSubplot:title={'center':'Ecology_3'}>],\n",
       "       [<AxesSubplot:title={'center':'Social_1'}>,\n",
       "        <AxesSubplot:title={'center':'Social_2'}>,\n",
       "        <AxesSubplot:title={'center':'Social_3'}>,\n",
       "        <AxesSubplot:title={'center':'Healthcare_1'}>],\n",
       "       [<AxesSubplot:title={'center':'Helthcare_2'}>,\n",
       "        <AxesSubplot:title={'center':'Shops_1'}>,\n",
       "        <AxesSubplot:title={'center':'Shops_2'}>,\n",
       "        <AxesSubplot:title={'center':'Price'}>]], dtype=object)"
      ]
     },
     "execution_count": 6,
     "metadata": {},
     "output_type": "execute_result"
    }
   ],
   "source": [
    "df.hist(figsize=(20,20), bins=20)"
   ]
  },
  {
   "cell_type": "code",
   "execution_count": null,
   "metadata": {},
   "outputs": [],
   "source": [
    "df.describe()"
   ]
  },
  {
   "cell_type": "code",
   "execution_count": null,
   "metadata": {},
   "outputs": [],
   "source": [
    "df.info()"
   ]
  },
  {
   "cell_type": "markdown",
   "metadata": {},
   "source": [
    "### **Параметр Rooms**"
   ]
  },
  {
   "cell_type": "code",
   "execution_count": null,
   "metadata": {},
   "outputs": [],
   "source": [
    "df['Rooms'].value_counts()"
   ]
  },
  {
   "cell_type": "markdown",
   "metadata": {},
   "source": [
    "#### Заменим значения, которые больше 6 на моду, а те, которые равны 0 на 1."
   ]
  },
  {
   "cell_type": "markdown",
   "metadata": {},
   "source": [
    "### **Параметр Square**"
   ]
  },
  {
   "cell_type": "code",
   "execution_count": null,
   "metadata": {},
   "outputs": [],
   "source": [
    "plt.scatter(df['Square'], df['Id'])"
   ]
  },
  {
   "cell_type": "code",
   "execution_count": null,
   "metadata": {},
   "outputs": [],
   "source": [
    "(df['Square'] > 300).sum()"
   ]
  },
  {
   "cell_type": "code",
   "execution_count": null,
   "metadata": {},
   "outputs": [],
   "source": [
    "(df['Square'] < 10).sum()"
   ]
  },
  {
   "cell_type": "markdown",
   "metadata": {},
   "source": [
    "#### Заменим значения, которые больше 300 на среднее значение, а те, которые меньше 10 на медианные."
   ]
  },
  {
   "cell_type": "markdown",
   "metadata": {},
   "source": [
    "### **Параметр LifeSquare**"
   ]
  },
  {
   "cell_type": "code",
   "execution_count": null,
   "metadata": {},
   "outputs": [],
   "source": [
    "(df['LifeSquare'] > 250).sum()"
   ]
  },
  {
   "cell_type": "markdown",
   "metadata": {},
   "source": [
    "#### Эти значения заменим на средние."
   ]
  },
  {
   "cell_type": "code",
   "execution_count": null,
   "metadata": {},
   "outputs": [],
   "source": [
    "(df['LifeSquare'] < 10).sum()"
   ]
  },
  {
   "cell_type": "markdown",
   "metadata": {},
   "source": [
    "#### Эти значения заменим на медианные."
   ]
  },
  {
   "cell_type": "code",
   "execution_count": null,
   "metadata": {},
   "outputs": [],
   "source": [
    "(df['LifeSquare'].isnull()).sum()"
   ]
  },
  {
   "cell_type": "code",
   "execution_count": null,
   "metadata": {},
   "outputs": [],
   "source": [
    "((df['LifeSquare'] + df['KitchenSquare']) > df['Square']).sum()"
   ]
  },
  {
   "cell_type": "markdown",
   "metadata": {},
   "source": [
    "#### Эти значения заменим на среднее соотношение жилплощади к общей."
   ]
  },
  {
   "cell_type": "markdown",
   "metadata": {},
   "source": [
    "### **Параметр KitchenSquare**"
   ]
  },
  {
   "cell_type": "code",
   "execution_count": null,
   "metadata": {},
   "outputs": [],
   "source": [
    "df['KitchenSquare'].value_counts()"
   ]
  },
  {
   "cell_type": "code",
   "execution_count": null,
   "metadata": {},
   "outputs": [],
   "source": [
    "(df['KitchenSquare'] < 2).sum()"
   ]
  },
  {
   "cell_type": "markdown",
   "metadata": {},
   "source": [
    "#### Изменим значения на 2."
   ]
  },
  {
   "cell_type": "code",
   "execution_count": null,
   "metadata": {},
   "outputs": [],
   "source": [
    "(df['KitchenSquare'] > 50).sum()"
   ]
  },
  {
   "cell_type": "markdown",
   "metadata": {},
   "source": [
    "#### Эти значения меняем на медиану."
   ]
  },
  {
   "cell_type": "markdown",
   "metadata": {},
   "source": [
    "### **Параметр HouseFloor**"
   ]
  },
  {
   "cell_type": "code",
   "execution_count": null,
   "metadata": {},
   "outputs": [],
   "source": [
    "(df['Floor'] > df['HouseFloor']).sum()"
   ]
  },
  {
   "cell_type": "markdown",
   "metadata": {},
   "source": [
    "#### Заменим значения HouseFloor, где Floor < 5 на 5, где < 10 на 10, где < 15 на 15, где < 20 на 20, а остальные поменяем на значение Floor."
   ]
  },
  {
   "cell_type": "code",
   "execution_count": null,
   "metadata": {},
   "outputs": [],
   "source": [
    "(df['HouseFloor'] > 60).sum()"
   ]
  },
  {
   "cell_type": "markdown",
   "metadata": {},
   "source": [
    "#### Заменим на значение 60."
   ]
  },
  {
   "cell_type": "code",
   "execution_count": null,
   "metadata": {},
   "outputs": [],
   "source": [
    "df['HouseFloor'].value_counts()"
   ]
  },
  {
   "cell_type": "markdown",
   "metadata": {},
   "source": [
    "### **Параметр HouseYear**"
   ]
  },
  {
   "cell_type": "code",
   "execution_count": null,
   "metadata": {},
   "outputs": [],
   "source": [
    "(df['HouseYear'] > 2020).sum()"
   ]
  },
  {
   "cell_type": "markdown",
   "metadata": {},
   "source": [
    "#### Меняем на медианные значения."
   ]
  },
  {
   "cell_type": "markdown",
   "metadata": {},
   "source": [
    "### **Healthcare_1**"
   ]
  },
  {
   "cell_type": "code",
   "execution_count": null,
   "metadata": {},
   "outputs": [],
   "source": [
    "(df['Healthcare_1'].isna()).sum()"
   ]
  },
  {
   "cell_type": "markdown",
   "metadata": {},
   "source": [
    "#### Параметр удаляем."
   ]
  },
  {
   "cell_type": "code",
   "execution_count": null,
   "metadata": {},
   "outputs": [],
   "source": [
    "class DataPipeline:\n",
    "    \n",
    "    \"\"\"Подготовка исходных данных. Заполнение пропусков, правка некорректных значений.\"\"\"\n",
    "    \n",
    "    def __init__(self):\n",
    "        \n",
    "        \"\"\"Параметры класса\"\"\"\n",
    "        self.rooms_mode = None\n",
    "        self.square_mean = None\n",
    "        self.square_median = None\n",
    "        self.lifesquare_median = None\n",
    "        self.lifesquare_mean = None\n",
    "        self.life_to_square = None\n",
    "        self.kitchensquare_median = None\n",
    "        self.houseyear_median = None\n",
    "        self.medians = None\n",
    "        \n",
    "    def fit(self, df):\n",
    "        \n",
    "        \"\"\"Сохранение статистик\"\"\"\n",
    "        self.rooms_mode = df['Rooms'].mode()[0]\n",
    "        self.square_mean = df['Square'].mean()\n",
    "        self.square_median = df['Square'].median()\n",
    "        self.lifesquare_mean = df['LifeSquare'].mean()\n",
    "        self.lifesquare_median = df['LifeSquare'].median()\n",
    "        self.life_to_square = df['LifeSquare'].median() / df['Square'].median()\n",
    "        self.kitchensquare_median = df['KitchenSquare'].median()\n",
    "        self.houseyear_median = df['HouseYear'].median()\n",
    "        self.medians = df.median()\n",
    "    \n",
    "    def transform(self, df):\n",
    "        \n",
    "        \"\"\"Трансформация данных\"\"\"\n",
    "        \n",
    "        # 1. Заменим буквенные значения в выборке на цифренные.\n",
    "        data_to_change_type = df.select_dtypes(include='object').keys()\n",
    "        for column in data_to_change_type:\n",
    "            old_values = np.sort((pd.unique(df[column])))\n",
    "            new_values = [num for num in range(0, len(old_values))]\n",
    "            for val in range(len(pd.unique(df[column]))):\n",
    "                df[column] = np.where(df[column] == old_values[val], new_values[val], df[column])\n",
    "            df[column] = df[column].astype(int)\n",
    "\n",
    "        # 2. Введем новую фичу, которая будет показывать, сколько раз был изменен объект недвижимости в ходе обработки данных.\n",
    "        df['TimesChanged'] = 0\n",
    "        \n",
    "        # 3. Параметр Rooms. Заменим значения, которые больше 6 на моду, а те, которые равны 0 на 1.\n",
    "        df['TimesChanged'] = np.where(((df['Rooms'] == 0) | (df['Rooms'] > 6)), (df['TimesChanged'] + 1), df['TimesChanged'])\n",
    "        df['Rooms'] = np.where((df['Rooms'] == 0), 1, df['Rooms'])\n",
    "        df['Rooms'] = np.where((df['Rooms'] > 6), self.rooms_mode, df['Rooms'])\n",
    "        \n",
    "        # 4. Параметр Square. Заменим значения, которые больше 300 на среднее значение, а те, которые меньше 10 на медианные.\n",
    "        df['TimesChanged'] = np.where(((df['Square'] < 10) | (df['Square'] > 300)), (df['TimesChanged'] + 1), df['TimesChanged'])\n",
    "        df['Square'] = np.where((df['Square'] < 10), self.square_median, df['Square'])\n",
    "        df['Square'] = np.where((df['Square'] > 300), self.square_mean, df['Square'])\n",
    "        \n",
    "        # 5. Параметр LifeSquare. Заменим значения, которые больше 250 на среднее значение, а те, которые меньше 10 на медианные.\n",
    "        # Значения NaN и значения, где жилплощадь + кухня больше общей заменим на среднее соотношение этих параметров в выборке.\n",
    "        \n",
    "        condition_square = (df['Square'] > (df['LifeSquare'] + df['KitchenSquare']))\n",
    "        \n",
    "        df['TimesChanged'] = np.where(((df['LifeSquare'] > 250) | (df['LifeSquare'] < 10) | (df['LifeSquare'].isnull()) | condition_square), (df['TimesChanged'] + 1), df['TimesChanged'])\n",
    "        df['LifeSquare'] = np.where((df['LifeSquare'] < 10), self.lifesquare_median, df['LifeSquare'])\n",
    "        df['LifeSquare'] = np.where((df['LifeSquare'] > 250), self.lifesquare_mean, df['LifeSquare'])\n",
    "        df['LifeSquare'] = np.where((condition_square | df['LifeSquare'].isnull()), (df['Square'] * self.life_to_square), df['LifeSquare'])\n",
    "        \n",
    "        # 6. Параметр KitchenSquare. Значения меньше 2 заменим на 2, а больше 50 на медиану.\n",
    "        df['TimesChanged'] = np.where(((df['KitchenSquare'] < 2) | (df['KitchenSquare'] > 50)), (df['TimesChanged'] + 1), df['TimesChanged'])\n",
    "        df['KitchenSquare'] = np.where((df['KitchenSquare'] < 2), 2, df['KitchenSquare'])\n",
    "        df['KitchenSquare'] = np.where((df['KitchenSquare'] > 50), self.kitchensquare_median, df['KitchenSquare'])\n",
    "        \n",
    "        # 7. Параметр HouseFloor.\n",
    "        df['TimesChanged'] = np.where(((df['HouseFloor'] > 60) | (df['HouseFloor'] < df['Floor'])), (df['TimesChanged'] + 1), df['TimesChanged'])\n",
    "        df['HouseFloor'] = np.where((df['HouseFloor'] > 60), 60, df['HouseFloor'])\n",
    "        \n",
    "        # Теперь обработаем данные, где этаж больше этажности.\n",
    "        # Для значений меньше 5 этажность заменим на 5, где меньше 10 на 10, где меньше 15 на 15, где меньше 20 на 20, \n",
    "        # а все, что больше на значение этажа.\n",
    "        df['HouseFloor'] = np.where(((df['HouseFloor'] < df['Floor']) & (df['Floor'] <= 5)), 5, df['HouseFloor'])\n",
    "        df['HouseFloor'] = np.where(((df['HouseFloor'] < df['Floor']) & (df['Floor'] <= 10)), 10, df['HouseFloor'])\n",
    "        df['HouseFloor'] = np.where(((df['HouseFloor'] < df['Floor']) & (df['Floor'] <= 15)), 15, df['HouseFloor'])\n",
    "        df['HouseFloor'] = np.where(((df['HouseFloor'] < df['Floor']) & (df['Floor'] <= 20)), 20, df['HouseFloor'])\n",
    "        df['HouseFloor'] = np.where((df['HouseFloor'] < df['Floor']), df['Floor'], df['HouseFloor'])\n",
    "        \n",
    "        # 8. Параметр HouseYear. Всё, что больше 2020 года меняем на медианные значения.\n",
    "        df['TimesChanged'] = np.where((df['HouseYear'] > 2020), (df['TimesChanged'] + 1), df['TimesChanged'])\n",
    "        df['HouseYear'] = np.where((df['HouseYear'] > 2020), self.houseyear_median, df['HouseYear'])\n",
    "        \n",
    "        # 9. Параметр Healthcare_1. Удаляем из-за большого количества пропусков.\n",
    "        df.drop(['Healthcare_1'], axis=1)\n",
    "        \n",
    "        # 10. Если в датасете до сих пор есть незаполненные значения, заполним их медианными значениями на всякий случай.\n",
    "        df.fillna(self.medians, inplace=True)\n",
    "        \n",
    "        return df"
   ]
  },
  {
   "cell_type": "code",
   "execution_count": null,
   "metadata": {},
   "outputs": [],
   "source": [
    "pipe = DataPipeline()\n",
    "pipe.fit(df)\n",
    "df = pipe.transform(df)"
   ]
  },
  {
   "cell_type": "code",
   "execution_count": null,
   "metadata": {},
   "outputs": [],
   "source": [
    "df.hist(figsize=(20,20), bins=20)"
   ]
  },
  {
   "cell_type": "code",
   "execution_count": null,
   "metadata": {},
   "outputs": [],
   "source": [
    "df.info()"
   ]
  },
  {
   "cell_type": "markdown",
   "metadata": {},
   "source": [
    "### 3. Генерация новых признаков."
   ]
  },
  {
   "cell_type": "code",
   "execution_count": null,
   "metadata": {},
   "outputs": [],
   "source": [
    "feature_names = ['Id',\n",
    " 'DistrictId',\n",
    " 'Rooms',\n",
    " 'Square',\n",
    " 'LifeSquare',\n",
    " 'KitchenSquare',\n",
    " 'Floor',\n",
    " 'HouseFloor',\n",
    " 'HouseYear',\n",
    " 'Ecology_1',\n",
    " 'Ecology_2',\n",
    " 'Ecology_3',\n",
    " 'Social_1',\n",
    " 'Social_2',\n",
    " 'Social_3',\n",
    " 'Helthcare_2',\n",
    " 'Shops_1',\n",
    " 'Shops_2',\n",
    " 'TimesChanged']"
   ]
  },
  {
   "cell_type": "code",
   "execution_count": null,
   "metadata": {},
   "outputs": [],
   "source": [
    "plt.figure(figsize = (15,10))\n",
    "\n",
    "sns.set(font_scale=1.4)\n",
    "\n",
    "corr_matrix = df[feature_names].corr()\n",
    "corr_matrix = np.round(corr_matrix, 2)\n",
    "corr_matrix[np.abs(corr_matrix) < 0.3] = 0\n",
    "\n",
    "sns.heatmap(corr_matrix, annot=True, linewidths=.5, cmap='coolwarm')\n",
    "\n",
    "plt.title('Correlation matrix')\n",
    "plt.show()"
   ]
  },
  {
   "cell_type": "code",
   "execution_count": null,
   "metadata": {},
   "outputs": [],
   "source": [
    "class NewFeatures:\n",
    "    \n",
    "    \"\"\"Генерация новых признаков, изменение старых\"\"\"\n",
    "    \n",
    "    def generate(self, df):\n",
    "        \n",
    "        \"\"\"Изменение старых признаков\"\"\"\n",
    "        \n",
    "        # Поменяем год постройки на декаду по счету, начиная от 1910.\n",
    "        df['HouseYear'] = np.where((df['HouseYear'] <= 1910), 1, df['HouseYear'])\n",
    "        df['HouseYear'] = np.where(((1910 < df['HouseYear']) & (df['HouseYear'] <= 1920)), 2, df['HouseYear'])\n",
    "        df['HouseYear'] = np.where(((1920 < df['HouseYear']) & (df['HouseYear'] <= 1930)), 3, df['HouseYear'])\n",
    "        df['HouseYear'] = np.where(((1930 < df['HouseYear']) & (df['HouseYear'] <= 1940)), 4, df['HouseYear'])\n",
    "        df['HouseYear'] = np.where(((1940 < df['HouseYear']) & (df['HouseYear'] <= 1950)), 5, df['HouseYear'])\n",
    "        df['HouseYear'] = np.where(((1950 < df['HouseYear']) & (df['HouseYear'] <= 1960)), 6, df['HouseYear'])\n",
    "        df['HouseYear'] = np.where(((1960 < df['HouseYear']) & (df['HouseYear'] <= 1970)), 7, df['HouseYear'])\n",
    "        df['HouseYear'] = np.where(((1970 < df['HouseYear']) & (df['HouseYear'] <= 1980)), 8, df['HouseYear'])\n",
    "        df['HouseYear'] = np.where(((1980 < df['HouseYear']) & (df['HouseYear'] <= 1990)), 9, df['HouseYear'])\n",
    "        df['HouseYear'] = np.where(((1990 < df['HouseYear']) & (df['HouseYear'] <= 2000)), 10, df['HouseYear'])\n",
    "        df['HouseYear'] = np.where(((2000 < df['HouseYear']) & (df['HouseYear'] <= 2010)), 11, df['HouseYear'])\n",
    "        df['HouseYear'] = np.where(((2010 < df['HouseYear']) & (df['HouseYear'] <= 2020)), 12, df['HouseYear'])\n",
    "        \n",
    "        \"\"\"Генерация новых признаков\"\"\"\n",
    "        \n",
    "        # Соотношение этажа к этажности. Если квартира находится ближе к первому этажу, то значение будет ближе к 0, если к последнему, то к единице.\n",
    "        df['FirstLastFloor'] = df['Floor'] / df['HouseFloor']\n",
    "        \n",
    "        # Средняя площадь комнат.\n",
    "        df['RoomSquare'] = df['LifeSquare'] / df['Rooms']\n",
    "        \n",
    "        # Из-за сильной корреляции признаков сделаем новый на основе их отношения друг к другу.\n",
    "        df['Social'] = df['Social_1'] / df['Social_2']\n",
    "        \n",
    "        return df"
   ]
  },
  {
   "cell_type": "code",
   "execution_count": null,
   "metadata": {},
   "outputs": [],
   "source": [
    "feat = NewFeatures()\n",
    "df = feat.generate(df)"
   ]
  },
  {
   "cell_type": "code",
   "execution_count": null,
   "metadata": {},
   "outputs": [],
   "source": [
    "target_name = 'Price'\n",
    "all_features = ['Id',\n",
    " 'DistrictId',\n",
    " 'Rooms',\n",
    " 'Square',\n",
    " 'LifeSquare',\n",
    " 'KitchenSquare',\n",
    " 'Floor',\n",
    " 'HouseFloor',\n",
    " 'HouseYear',\n",
    " 'Ecology_1',\n",
    " 'Ecology_2',\n",
    " 'Ecology_3',\n",
    " 'Social_1',\n",
    " 'Social_2',\n",
    " 'Social_3',\n",
    " 'Helthcare_2',\n",
    " 'Shops_1',\n",
    " 'Shops_2',\n",
    " 'TimesChanged',\n",
    " 'FirstLastFloor',\n",
    " 'RoomSquare',\n",
    " 'Social']"
   ]
  },
  {
   "cell_type": "code",
   "execution_count": null,
   "metadata": {},
   "outputs": [],
   "source": [
    "plt.figure(figsize = (15,10))\n",
    "\n",
    "sns.set(font_scale=1.4)\n",
    "\n",
    "corr_matrix = df[feature_names].corr()\n",
    "corr_matrix = np.round(corr_matrix, 2)\n",
    "corr_matrix[np.abs(corr_matrix) < 0.3] = 0\n",
    "\n",
    "sns.heatmap(corr_matrix, annot=True, linewidths=.5, cmap='coolwarm')\n",
    "\n",
    "plt.title('Correlation matrix')\n",
    "plt.show()"
   ]
  },
  {
   "cell_type": "markdown",
   "metadata": {},
   "source": [
    "### 4. Оценка модели перед корректировками."
   ]
  },
  {
   "cell_type": "code",
   "execution_count": null,
   "metadata": {},
   "outputs": [],
   "source": [
    "X = df[all_features]\n",
    "y = df[target_name]\n",
    "\n",
    "X_train, X_test, y_train, y_test = train_test_split(X, y, test_size=0.25, random_state=42)"
   ]
  },
  {
   "cell_type": "code",
   "execution_count": null,
   "metadata": {},
   "outputs": [],
   "source": [
    "gb_model = GradientBoostingRegressor(criterion='mse',\n",
    "                                     max_depth=5,\n",
    "                                     min_samples_leaf=9,\n",
    "                                     random_state=42,  \n",
    "                                     n_estimators=200)\n",
    "gb_model.fit(X_train, y_train)\n",
    "\n",
    "y_train_preds = gb_model.predict(X_train)\n",
    "\n",
    "y_test_preds = gb_model.predict(X_test)"
   ]
  },
  {
   "cell_type": "code",
   "execution_count": null,
   "metadata": {},
   "outputs": [],
   "source": [
    "evaluate_preds(y_train, y_train_preds, y_test, y_test_preds)"
   ]
  },
  {
   "cell_type": "markdown",
   "metadata": {},
   "source": [
    "### 5. Корректировки и финальные результаты."
   ]
  },
  {
   "cell_type": "code",
   "execution_count": null,
   "metadata": {},
   "outputs": [],
   "source": [
    "cv_score = cross_val_score(gb_model, X, y, scoring='r2', cv=KFold(n_splits=3, shuffle=True, random_state=21))\n",
    "cv_score"
   ]
  },
  {
   "cell_type": "code",
   "execution_count": null,
   "metadata": {},
   "outputs": [],
   "source": [
    "feature_importances = pd.DataFrame(zip(X_train.columns, \n",
    "                                       gb_model.feature_importances_), \n",
    "                                   columns=['feature_name', 'importance'])\n",
    "\n",
    "feature_importances.sort_values(by='importance', ascending=False, inplace=True)\n",
    "feature_importances"
   ]
  },
  {
   "cell_type": "code",
   "execution_count": null,
   "metadata": {},
   "outputs": [],
   "source": [
    "final_features = ['Id',\n",
    " 'DistrictId',\n",
    " 'Rooms',\n",
    " 'Square',\n",
    " 'LifeSquare',\n",
    " 'KitchenSquare',\n",
    " 'Floor',\n",
    " 'HouseFloor',\n",
    " 'HouseYear',\n",
    " 'Ecology_1',\n",
    " 'Social_1',\n",
    " 'Social_2',\n",
    " 'Social_3',\n",
    " 'Helthcare_2',\n",
    " 'Shops_1',\n",
    " 'TimesChanged',\n",
    " 'FirstLastFloor',\n",
    " 'RoomSquare',\n",
    " 'Social']"
   ]
  },
  {
   "cell_type": "code",
   "execution_count": null,
   "metadata": {},
   "outputs": [],
   "source": [
    "X = df[final_features]\n",
    "y = df[target_name]\n",
    "\n",
    "X_train, X_test, y_train, y_test = train_test_split(X, y, test_size=0.25, random_state=42)"
   ]
  },
  {
   "cell_type": "code",
   "execution_count": null,
   "metadata": {},
   "outputs": [],
   "source": [
    "gb_model = GradientBoostingRegressor(criterion='mse',\n",
    "                                     max_depth=5,\n",
    "                                     min_samples_leaf=9,\n",
    "                                     random_state=42,  \n",
    "                                     n_estimators=200)\n",
    "gb_model.fit(X_train, y_train)\n",
    "\n",
    "y_train_preds = gb_model.predict(X_train)\n",
    "\n",
    "y_test_preds = gb_model.predict(X_test)"
   ]
  },
  {
   "cell_type": "code",
   "execution_count": null,
   "metadata": {},
   "outputs": [],
   "source": [
    "evaluate_preds(y_train, y_train_preds, y_test, y_test_preds)"
   ]
  },
  {
   "cell_type": "markdown",
   "metadata": {},
   "source": [
    "### 6. Прогнозирование на тестовом датасете."
   ]
  },
  {
   "cell_type": "code",
   "execution_count": null,
   "metadata": {},
   "outputs": [],
   "source": [
    "test_directory = '/home/maxim/Документы/GeekBrains/1 четверть. Библиотки Python для Data Science. Numpy, Matplotlib, Scikit-learn/Manuals/test.csv'"
   ]
  },
  {
   "cell_type": "code",
   "execution_count": null,
   "metadata": {},
   "outputs": [],
   "source": [
    "new_file = '/home/maxim/Документы/GeekBrains/1 четверть. Библиотки Python для Data Science. Numpy, Matplotlib, Scikit-learn/Manuals/prices_test.csv'"
   ]
  },
  {
   "cell_type": "code",
   "execution_count": null,
   "metadata": {},
   "outputs": [],
   "source": [
    "df_test = pd.read_csv(test_directory)\n",
    "df_test = pipe.transform(df_test)"
   ]
  },
  {
   "cell_type": "code",
   "execution_count": null,
   "metadata": {},
   "outputs": [],
   "source": [
    "df_test = feat.generate(df_test)"
   ]
  },
  {
   "cell_type": "code",
   "execution_count": null,
   "metadata": {},
   "outputs": [],
   "source": [
    "predictions = gb_model.predict(df_test[final_features])\n",
    "predictions"
   ]
  },
  {
   "cell_type": "code",
   "execution_count": null,
   "metadata": {},
   "outputs": [],
   "source": [
    "df_test.head()"
   ]
  },
  {
   "cell_type": "code",
   "execution_count": null,
   "metadata": {},
   "outputs": [],
   "source": [
    "y_predict_id = pd.DataFrame(df_test, columns=['Id'])\n",
    "y_predict_2 = pd.DataFrame(predictions, columns=['Price'])\n",
    "new_prices = pd.concat([y_predict_id, y_predict_2], axis=1)\n",
    "new_prices.to_csv('/home/maxim/Документы/GeekBrains/1 четверть. Библиотки Python для Data Science. Numpy, Matplotlib, Scikit-learn/Tasks/v.1.5.csv', index=False)"
   ]
  },
  {
   "cell_type": "code",
   "execution_count": null,
   "metadata": {},
   "outputs": [],
   "source": []
  }
 ],
 "metadata": {
  "kernelspec": {
   "display_name": "Python 3",
   "language": "python",
   "name": "python3"
  },
  "language_info": {
   "codemirror_mode": {
    "name": "ipython",
    "version": 3
   },
   "file_extension": ".py",
   "mimetype": "text/x-python",
   "name": "python",
   "nbconvert_exporter": "python",
   "pygments_lexer": "ipython3",
   "version": "3.8.2"
  }
 },
 "nbformat": 4,
 "nbformat_minor": 4
}
